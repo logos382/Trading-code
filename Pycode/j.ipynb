{
 "cells": [
  {
   "cell_type": "code",
   "execution_count": 1,
   "metadata": {},
   "outputs": [],
   "source": [
    "from asyncio import gather, run\n",
    "import ccxt.async_support as ccxt\n",
    "import asyncio\n",
    "import pandas as pd\n",
    "import sqlalchemy\n",
    "from sqlalchemy.orm import sessionmaker\n",
    "from sqlalchemy import inspect\n",
    "import time"
   ]
  },
  {
   "cell_type": "code",
   "execution_count": 2,
   "metadata": {},
   "outputs": [],
   "source": [
    "# create the engine to write/read into the sql database(e.g. an sqlite db)\n",
    "engine = sqlalchemy.create_engine('sqlite:///Trading-code/Sqldb/B_Crypto.db', poolclass=sqlalchemy.pool.QueuePool)\n",
    "Session = sessionmaker(bind=engine)"
   ]
  },
  {
   "cell_type": "code",
   "execution_count": 3,
   "metadata": {},
   "outputs": [],
   "source": [
    "starttime = time.time()\n",
    "runtime = 3600 # 60 = 1m; 3600 = 1H; 86700 = 1D; 607800 = 1W\n",
    "\n",
    "exchanges = {\n",
    "        'mexc': ['BTC/USDT', 'RUNE/USDT'],\n",
    "        'binance': ['BTC/USDT', 'RUNE/USDT'],\n",
    "    }"
   ]
  },
  {
   "cell_type": "code",
   "execution_count": 4,
   "metadata": {},
   "outputs": [],
   "source": [
    "async def createdf(msg):\n",
    "    \"\"\"_summary_\n",
    "\n",
    "    Args:\n",
    "        msg (_type_): _description_\n",
    "\n",
    "    Returns:\n",
    "        _type_: _description_\n",
    "    \"\"\"\n",
    "    # Create a Data Frame from websocket msg\n",
    "    df = pd.DataFrame([msg[0]])\n",
    "    # print(df)\n",
    "    # Slice Dataframe to keep only required data\n",
    "    df = df.loc[:,['timestamp', 'symbol', 'price']].rename(columns={\"timestamp\": \"CloseTime\", \"price\": \"LastPrice\"})\n",
    "    # Convert Text to float for future calculations\n",
    "    df.LastPrice = df.LastPrice.astype(float)\n",
    "    # convert unix UTC time to more readable one\n",
    "    df.CloseTime = pd.to_datetime(df.CloseTime, unit='ms')\n",
    "    print(df)\n",
    "    return df"
   ]
  },
  {
   "cell_type": "code",
   "execution_count": 5,
   "metadata": {},
   "outputs": [],
   "source": [
    "async def writesql(msg, symbol, exchange):\n",
    "    \"\"\"_summary_\n",
    "\n",
    "    Args:\n",
    "        msg (_type_): _description_\n",
    "        symbol (_type_): _description_\n",
    "    \"\"\"\n",
    "    # Call createdf() to create DataFrame from message\n",
    "    frame = await createdf(msg)\n",
    "    insp = inspect(engine)\n",
    "    tablename = symbol.replace(\"/\", \"_\")+\"_\"+str(exchange).replace(\" \", \"\")\n",
    "    if insp.has_table(tablename):\n",
    "        df = pd.read_sql('SELECT CloseTime, LastPrice FROM '+ tablename, con=engine)\n",
    "        lastrow = df.tail(1)\n",
    "        if lastrow[\"LastPrice\"].values != frame[\"LastPrice\"].values:\n",
    "            session = Session()  # Create a session manually\n",
    "            # Perform batch insert within a transaction \n",
    "            transaction = session.begin()\n",
    "            try:\n",
    "                frame.to_sql(tablename, engine, if_exists='append', index=False)\n",
    "                transaction.commit()\n",
    "            except Exception as e:\n",
    "                transaction.rollback()\n",
    "                print(f'Error: {e}')\n",
    "                # Proper error handling implementation...  \n",
    "    else:\n",
    "        session = Session()  # Create a session manually\n",
    "        # Perform batch insert within a transaction \n",
    "        transaction = session.begin()\n",
    "        try:\n",
    "            frame.to_sql(tablename, engine, if_exists='append', index=False)\n",
    "            transaction.commit()\n",
    "        except Exception as e:\n",
    "            transaction.rollback()\n",
    "            print(f'Error: {e}')\n",
    "            # Proper error handling implementation..."
   ]
  },
  {
   "cell_type": "code",
   "execution_count": 6,
   "metadata": {},
   "outputs": [],
   "source": [
    "async def symbol_loop(exchange, symbol, runtime):\n",
    "    print('Starting the', exchange.id, 'symbol loop with', symbol)\n",
    "    while True:\n",
    "        try:\n",
    "            msg = await exchange.fetch_trades(symbol, limit=1)\n",
    "            now = exchange.milliseconds()\n",
    "            # print(exchange.iso8601(now), exchange.id, symbol, orderbook['asks'][0], orderbook['bids'][0])\n",
    "            #print(exchange.iso8601(now), exchange.id, symbol, msg)\n",
    "            await gather(writesql(msg, symbol, exchange))\n",
    "        except Exception as e:\n",
    "            print(str(e))\n",
    "            # raise e  # uncomment to break all loops in case of an error in any one of them\n",
    "            break  # you can break just this one loop if it fails\n",
    "        currenttime = time.time()\n",
    "        if currenttime >= starttime + runtime:\n",
    "            break"
   ]
  },
  {
   "cell_type": "code",
   "execution_count": 7,
   "metadata": {},
   "outputs": [],
   "source": [
    "async def exchange_loop(exchange_id, symbols, runtime):\n",
    "    print('Starting the', exchange_id, 'exchange loop with', symbols)\n",
    "    exchange = getattr(ccxt, exchange_id)()\n",
    "    exchange.enableRateLimit = True\n",
    "    loops = [symbol_loop(exchange, symbol, runtime) for symbol in symbols]\n",
    "    await gather(*loops)\n",
    "    await exchange.close()"
   ]
  },
  {
   "cell_type": "code",
   "execution_count": 8,
   "metadata": {},
   "outputs": [],
   "source": [
    "async def main(exchanges, runtime):\n",
    "        loops = [exchange_loop(exchange_id, symbols, runtime) for exchange_id, symbols in exchanges.items()]\n",
    "        await gather(*loops)"
   ]
  },
  {
   "cell_type": "code",
   "execution_count": 9,
   "metadata": {},
   "outputs": [
    {
     "ename": "RuntimeError",
     "evalue": "asyncio.run() cannot be called from a running event loop",
     "output_type": "error",
     "traceback": [
      "\u001b[0;31m---------------------------------------------------------------------------\u001b[0m",
      "\u001b[0;31mRuntimeError\u001b[0m                              Traceback (most recent call last)",
      "\u001b[0;32m/tmp/ipykernel_54629/1266472727.py\u001b[0m in \u001b[0;36m<module>\u001b[0;34m\u001b[0m\n\u001b[0;32m----> 1\u001b[0;31m \u001b[0mrun\u001b[0m\u001b[0;34m(\u001b[0m\u001b[0mmain\u001b[0m\u001b[0;34m(\u001b[0m\u001b[0mexchanges\u001b[0m\u001b[0;34m,\u001b[0m \u001b[0mruntime\u001b[0m\u001b[0;34m)\u001b[0m\u001b[0;34m)\u001b[0m\u001b[0;34m\u001b[0m\u001b[0;34m\u001b[0m\u001b[0m\n\u001b[0m",
      "\u001b[0;32m~/anaconda3/lib/python3.9/asyncio/runners.py\u001b[0m in \u001b[0;36mrun\u001b[0;34m(main, debug)\u001b[0m\n\u001b[1;32m     31\u001b[0m     \"\"\"\n\u001b[1;32m     32\u001b[0m     \u001b[0;32mif\u001b[0m \u001b[0mevents\u001b[0m\u001b[0;34m.\u001b[0m\u001b[0m_get_running_loop\u001b[0m\u001b[0;34m(\u001b[0m\u001b[0;34m)\u001b[0m \u001b[0;32mis\u001b[0m \u001b[0;32mnot\u001b[0m \u001b[0;32mNone\u001b[0m\u001b[0;34m:\u001b[0m\u001b[0;34m\u001b[0m\u001b[0;34m\u001b[0m\u001b[0m\n\u001b[0;32m---> 33\u001b[0;31m         raise RuntimeError(\n\u001b[0m\u001b[1;32m     34\u001b[0m             \"asyncio.run() cannot be called from a running event loop\")\n\u001b[1;32m     35\u001b[0m \u001b[0;34m\u001b[0m\u001b[0m\n",
      "\u001b[0;31mRuntimeError\u001b[0m: asyncio.run() cannot be called from a running event loop"
     ]
    }
   ],
   "source": [
    "run(main(exchanges, runtime))"
   ]
  }
 ],
 "metadata": {
  "kernelspec": {
   "display_name": "base",
   "language": "python",
   "name": "python3"
  },
  "language_info": {
   "codemirror_mode": {
    "name": "ipython",
    "version": 3
   },
   "file_extension": ".py",
   "mimetype": "text/x-python",
   "name": "python",
   "nbconvert_exporter": "python",
   "pygments_lexer": "ipython3",
   "version": "3.9.18"
  },
  "orig_nbformat": 4,
  "vscode": {
   "interpreter": {
    "hash": "9d1deb61c2d373e30d9a4d0e7d4aad77268b4d197a9e45b5a139d5a0d880cb0a"
   }
  }
 },
 "nbformat": 4,
 "nbformat_minor": 2
}
